{
 "cells": [
  {
   "cell_type": "code",
   "execution_count": 1,
   "id": "63a8efb3-dfcb-4a0f-bde1-4f0c18187566",
   "metadata": {},
   "outputs": [
    {
     "name": "stdout",
     "output_type": "stream",
     "text": [
      "Requirement already satisfied: SpeechRecognition in ./.conda/envs/my_conda_env/lib/python3.10/site-packages (3.11.0)\n",
      "Requirement already satisfied: requests>=2.26.0 in ./.conda/envs/my_conda_env/lib/python3.10/site-packages (from SpeechRecognition) (2.32.3)\n",
      "Requirement already satisfied: typing-extensions in ./.conda/envs/my_conda_env/lib/python3.10/site-packages (from SpeechRecognition) (4.12.2)\n",
      "Requirement already satisfied: charset-normalizer<4,>=2 in ./.conda/envs/my_conda_env/lib/python3.10/site-packages (from requests>=2.26.0->SpeechRecognition) (3.4.0)\n",
      "Requirement already satisfied: idna<4,>=2.5 in ./.conda/envs/my_conda_env/lib/python3.10/site-packages (from requests>=2.26.0->SpeechRecognition) (3.10)\n",
      "Requirement already satisfied: urllib3<3,>=1.21.1 in ./.conda/envs/my_conda_env/lib/python3.10/site-packages (from requests>=2.26.0->SpeechRecognition) (2.2.3)\n",
      "Requirement already satisfied: certifi>=2017.4.17 in ./.conda/envs/my_conda_env/lib/python3.10/site-packages (from requests>=2.26.0->SpeechRecognition) (2024.8.30)\n",
      "Requirement already satisfied: matplotlib in ./.conda/envs/my_conda_env/lib/python3.10/site-packages (3.9.2)\n",
      "Requirement already satisfied: contourpy>=1.0.1 in ./.conda/envs/my_conda_env/lib/python3.10/site-packages (from matplotlib) (1.3.1)\n",
      "Requirement already satisfied: cycler>=0.10 in ./.conda/envs/my_conda_env/lib/python3.10/site-packages (from matplotlib) (0.12.1)\n",
      "Requirement already satisfied: fonttools>=4.22.0 in ./.conda/envs/my_conda_env/lib/python3.10/site-packages (from matplotlib) (4.55.0)\n",
      "Requirement already satisfied: kiwisolver>=1.3.1 in ./.conda/envs/my_conda_env/lib/python3.10/site-packages (from matplotlib) (1.4.7)\n",
      "Requirement already satisfied: numpy>=1.23 in ./.conda/envs/my_conda_env/lib/python3.10/site-packages (from matplotlib) (2.0.2)\n",
      "Requirement already satisfied: packaging>=20.0 in ./.conda/envs/my_conda_env/lib/python3.10/site-packages (from matplotlib) (24.2)\n",
      "Requirement already satisfied: pillow>=8 in ./.conda/envs/my_conda_env/lib/python3.10/site-packages (from matplotlib) (11.0.0)\n",
      "Requirement already satisfied: pyparsing>=2.3.1 in ./.conda/envs/my_conda_env/lib/python3.10/site-packages (from matplotlib) (3.2.0)\n",
      "Requirement already satisfied: python-dateutil>=2.7 in ./.conda/envs/my_conda_env/lib/python3.10/site-packages (from matplotlib) (2.9.0.post0)\n",
      "Requirement already satisfied: six>=1.5 in ./.conda/envs/my_conda_env/lib/python3.10/site-packages (from python-dateutil>=2.7->matplotlib) (1.16.0)\n",
      "Requirement already satisfied: librosa in ./.conda/envs/my_conda_env/lib/python3.10/site-packages (0.10.2.post1)\n",
      "Requirement already satisfied: audioread>=2.1.9 in ./.conda/envs/my_conda_env/lib/python3.10/site-packages (from librosa) (3.0.1)\n",
      "Requirement already satisfied: numpy!=1.22.0,!=1.22.1,!=1.22.2,>=1.20.3 in ./.conda/envs/my_conda_env/lib/python3.10/site-packages (from librosa) (2.0.2)\n",
      "Requirement already satisfied: scipy>=1.2.0 in ./.conda/envs/my_conda_env/lib/python3.10/site-packages (from librosa) (1.14.1)\n",
      "Requirement already satisfied: scikit-learn>=0.20.0 in ./.conda/envs/my_conda_env/lib/python3.10/site-packages (from librosa) (1.5.2)\n",
      "Requirement already satisfied: joblib>=0.14 in ./.conda/envs/my_conda_env/lib/python3.10/site-packages (from librosa) (1.4.2)\n",
      "Requirement already satisfied: decorator>=4.3.0 in ./.conda/envs/my_conda_env/lib/python3.10/site-packages (from librosa) (5.1.1)\n",
      "Requirement already satisfied: numba>=0.51.0 in ./.conda/envs/my_conda_env/lib/python3.10/site-packages (from librosa) (0.60.0)\n",
      "Requirement already satisfied: soundfile>=0.12.1 in ./.conda/envs/my_conda_env/lib/python3.10/site-packages (from librosa) (0.12.1)\n",
      "Requirement already satisfied: pooch>=1.1 in ./.conda/envs/my_conda_env/lib/python3.10/site-packages (from librosa) (1.8.2)\n",
      "Requirement already satisfied: soxr>=0.3.2 in ./.conda/envs/my_conda_env/lib/python3.10/site-packages (from librosa) (0.5.0.post1)\n",
      "Requirement already satisfied: typing-extensions>=4.1.1 in ./.conda/envs/my_conda_env/lib/python3.10/site-packages (from librosa) (4.12.2)\n",
      "Requirement already satisfied: lazy-loader>=0.1 in ./.conda/envs/my_conda_env/lib/python3.10/site-packages (from librosa) (0.4)\n",
      "Requirement already satisfied: msgpack>=1.0 in ./.conda/envs/my_conda_env/lib/python3.10/site-packages (from librosa) (1.1.0)\n",
      "Requirement already satisfied: packaging in ./.conda/envs/my_conda_env/lib/python3.10/site-packages (from lazy-loader>=0.1->librosa) (24.2)\n",
      "Requirement already satisfied: llvmlite<0.44,>=0.43.0dev0 in ./.conda/envs/my_conda_env/lib/python3.10/site-packages (from numba>=0.51.0->librosa) (0.43.0)\n",
      "Requirement already satisfied: platformdirs>=2.5.0 in ./.conda/envs/my_conda_env/lib/python3.10/site-packages (from pooch>=1.1->librosa) (4.3.6)\n",
      "Requirement already satisfied: requests>=2.19.0 in ./.conda/envs/my_conda_env/lib/python3.10/site-packages (from pooch>=1.1->librosa) (2.32.3)\n",
      "Requirement already satisfied: threadpoolctl>=3.1.0 in ./.conda/envs/my_conda_env/lib/python3.10/site-packages (from scikit-learn>=0.20.0->librosa) (3.5.0)\n",
      "Requirement already satisfied: cffi>=1.0 in ./.conda/envs/my_conda_env/lib/python3.10/site-packages (from soundfile>=0.12.1->librosa) (1.17.1)\n",
      "Requirement already satisfied: pycparser in ./.conda/envs/my_conda_env/lib/python3.10/site-packages (from cffi>=1.0->soundfile>=0.12.1->librosa) (2.22)\n",
      "Requirement already satisfied: charset-normalizer<4,>=2 in ./.conda/envs/my_conda_env/lib/python3.10/site-packages (from requests>=2.19.0->pooch>=1.1->librosa) (3.4.0)\n",
      "Requirement already satisfied: idna<4,>=2.5 in ./.conda/envs/my_conda_env/lib/python3.10/site-packages (from requests>=2.19.0->pooch>=1.1->librosa) (3.10)\n",
      "Requirement already satisfied: urllib3<3,>=1.21.1 in ./.conda/envs/my_conda_env/lib/python3.10/site-packages (from requests>=2.19.0->pooch>=1.1->librosa) (2.2.3)\n",
      "Requirement already satisfied: certifi>=2017.4.17 in ./.conda/envs/my_conda_env/lib/python3.10/site-packages (from requests>=2.19.0->pooch>=1.1->librosa) (2024.8.30)\n",
      "Requirement already satisfied: kagglehub in /usr4/cs350rm/wnapier/.local/lib/python3.10/site-packages (0.3.4)\n",
      "Requirement already satisfied: packaging in ./.conda/envs/my_conda_env/lib/python3.10/site-packages (from kagglehub) (24.2)\n",
      "Requirement already satisfied: requests in ./.conda/envs/my_conda_env/lib/python3.10/site-packages (from kagglehub) (2.32.3)\n",
      "Requirement already satisfied: tqdm in ./.conda/envs/my_conda_env/lib/python3.10/site-packages (from kagglehub) (4.67.0)\n",
      "Requirement already satisfied: charset-normalizer<4,>=2 in ./.conda/envs/my_conda_env/lib/python3.10/site-packages (from requests->kagglehub) (3.4.0)\n",
      "Requirement already satisfied: idna<4,>=2.5 in ./.conda/envs/my_conda_env/lib/python3.10/site-packages (from requests->kagglehub) (3.10)\n",
      "Requirement already satisfied: urllib3<3,>=1.21.1 in ./.conda/envs/my_conda_env/lib/python3.10/site-packages (from requests->kagglehub) (2.2.3)\n",
      "Requirement already satisfied: certifi>=2017.4.17 in ./.conda/envs/my_conda_env/lib/python3.10/site-packages (from requests->kagglehub) (2024.8.30)\n"
     ]
    }
   ],
   "source": [
    "!pip install SpeechRecognition\n",
    "!pip install matplotlib\n",
    "!pip install librosa\n",
    "!pip install kagglehub"
   ]
  },
  {
   "cell_type": "code",
   "execution_count": 2,
   "id": "efbd59f8-bbf6-4692-93ea-fbcad3ab55e8",
   "metadata": {
    "tags": []
   },
   "outputs": [
    {
     "name": "stderr",
     "output_type": "stream",
     "text": [
      "/projectnb/ds340/students/wnapier/.conda/envs/my_conda_env/lib/python3.10/site-packages/tqdm/auto.py:21: TqdmWarning: IProgress not found. Please update jupyter and ipywidgets. See https://ipywidgets.readthedocs.io/en/stable/user_install.html\n",
      "  from .autonotebook import tqdm as notebook_tqdm\n"
     ]
    },
    {
     "name": "stdout",
     "output_type": "stream",
     "text": [
      "Path to dataset files: /usr4/cs350rm/wnapier/.cache/kagglehub/datasets/uldisvalainis/audio-emotions/versions/1\n"
     ]
    }
   ],
   "source": [
    "import kagglehub\n",
    "\n",
    "# Download latest version\n",
    "path = kagglehub.dataset_download(\"uldisvalainis/audio-emotions\")\n",
    "\n",
    "print(\"Path to dataset files:\", path)"
   ]
  },
  {
   "cell_type": "code",
   "execution_count": 3,
   "id": "5c3c5e7b-c9a5-4884-9de8-8fcf7431a520",
   "metadata": {},
   "outputs": [],
   "source": [
    "import os\n",
    "import librosa\n",
    "import numpy as np\n",
    "import json\n",
    "\n",
    "# Base directory\n",
    "emotions = ['Happy', 'Sad', 'Disgusted', 'Neutral', 'Angry', 'Suprised', 'Fearful']\n",
    "\n",
    "# Base directory\n",
    "# base_directory = \"/usr4/ugrad/aditya12/.cache/kagglehub/datasets/uldisvalainis/audio-emotions/versions/1/Emotions\"\n",
    "base_directory = \"/usr4/cs350rm/wnapier/.cache/kagglehub/datasets/uldisvalainis/audio-emotions/versions/1/Emotions\""
   ]
  },
  {
   "cell_type": "code",
   "execution_count": 4,
   "id": "54263fe6-2d8f-4fc4-9e3e-a4fbc52dfd6e",
   "metadata": {},
   "outputs": [],
   "source": [
    "import speech_recognition as sr\n",
    "recognizer = sr.Recognizer()\n",
    "# input a file_path to a .wav file\n",
    "# returns the transcribed audio as a string\n",
    "# we can use BERT like in the homework to then tokenize/make into array and analyze it\n",
    "def getVectorOfWords(file_path):\n",
    "    with sr.AudioFile(file_path) as source:\n",
    "        audio = recognizer.record(source)\n",
    "    # print(\"Transcription:\", recognizer.recognize_google(audio))\n",
    "    return recognizer.recognize_google(audio)"
   ]
  },
  {
   "cell_type": "code",
   "execution_count": 5,
   "id": "d084ca90-8df5-4dd2-b9e9-8e46b31603f3",
   "metadata": {},
   "outputs": [],
   "source": [
    "import librosa.display\n",
    "import matplotlib.pyplot as plt\n",
    "# input a file_path to a .wav file\n",
    "# returns a png of the spectogram and a filepath to it\n",
    "def getSpectogram(file_path, emotion, count):\n",
    "    y, sr = librosa.load(file_path, sr=None) # load in the audio file and preserve its sample rate (replace with 16,000 if needed)\n",
    "    \n",
    "    # Compute the spectrogram\n",
    "    D = librosa.stft(y)                        # Short-Time Fourier Transform\n",
    "    S_db = librosa.amplitude_to_db(abs(D), ref=np.max)  # Convert to decibel scale\n",
    "\n",
    "    # Plot and save the spectrogram\n",
    "    plt.figure(figsize=(10, 6))                # Set the figure size\n",
    "    # can change the cmap to \"viridis\" or \"plasma\" for different color themes\n",
    "    librosa.display.specshow(S_db, sr=sr, x_axis=\"time\", y_axis=\"log\", cmap=\"magma\")  # Log frequency scale to mimic human audio perception\n",
    "    plt.colorbar(format=\"%+2.0f dB\")           # Add a colorbar\n",
    "    plt.title(\"Spectrogram\")\n",
    "    plt.xlabel(\"Time (s)\")\n",
    "    plt.ylabel(\"Frequency (Hz)\")\n",
    "    plt.tight_layout()\n",
    "    \n",
    "    # Save the spectrogram as an image file\n",
    "    output_image_path = f\"./images/{emotion}{count}.png\"  # TODO: figure out naming conventions for the file -- either use path or just have a counter that we pass in\n",
    "    plt.savefig(output_image_path, dpi=300)    # Save as PNG with high resolution\n",
    "    plt.close()                                # Close the figure to free memory\n",
    "    \n",
    "    print(f\"Spectrogram saved to {output_image_path}\")"
   ]
  },
  {
   "cell_type": "code",
   "execution_count": 6,
   "id": "650b80b3-cfc9-4e91-b3c6-c9f40bec6ca3",
   "metadata": {},
   "outputs": [],
   "source": [
    "# removes all files from images folder so subsequent runs don't have weird overlaps\n",
    "def clearImagesFolder():\n",
    "    directory = os.getcwd() + \"/images\"\n",
    "    for file_name in os.listdir(directory):\n",
    "        file_path = os.path.join(directory, file_name)\n",
    "        if os.path.isfile(file_path) and file_name.endswith('.png'):\n",
    "            os.remove(file_path)\n",
    "            print(\"\" + file_path + \"has been removed successfully\")"
   ]
  },
  {
   "cell_type": "code",
   "execution_count": null,
   "id": "2844d128-e096-4b4f-8b68-ce10bcd26763",
   "metadata": {},
   "outputs": [],
   "source": [
    "def traverse_emotion(emotion, directory):\n",
    "    audio_vectors = {}\n",
    "    #GetMelspectogram \n",
    "    #GetVectorofWords\n",
    "    #Put in pandas dataframe\n",
    "    # clearImagesFolder() # deletes everything from the image folder\n",
    "    directory = directory + \"/\" + emotion\n",
    "    \n",
    "    # Traverse and process .wav files\n",
    "    iterCount = 0\n",
    "    for file_name in os.listdir(directory):\n",
    "        # limit the number of loops so this doesn't take THAT long\n",
    "        if iterCount >= 25:\n",
    "            break\n",
    "        file_path = os.path.join(directory, file_name)\n",
    "        \n",
    "        if os.path.isfile(file_path) and file_name.endswith('.wav'):\n",
    "            getVectorOfWords(file_path)\n",
    "            # getSpectogram(file_path, emotion, iterCount)\n",
    "        iterCount += 1\n",
    "traverse_emotion(emotions[0], base_directory)"
   ]
  },
  {
   "cell_type": "code",
   "execution_count": null,
   "id": "a67f8c0c-a8e1-454f-af20-06fc74e732c5",
   "metadata": {},
   "outputs": [],
   "source": []
  }
 ],
 "metadata": {
  "kernelspec": {
   "display_name": "Python 3 (ipykernel)",
   "language": "python",
   "name": "python3"
  },
  "language_info": {
   "codemirror_mode": {
    "name": "ipython",
    "version": 3
   },
   "file_extension": ".py",
   "mimetype": "text/x-python",
   "name": "python",
   "nbconvert_exporter": "python",
   "pygments_lexer": "ipython3",
   "version": "3.10.15"
  }
 },
 "nbformat": 4,
 "nbformat_minor": 5
}
